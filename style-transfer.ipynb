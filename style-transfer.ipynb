{
 "cells": [
  {
   "cell_type": "markdown",
   "id": "791c8aab",
   "metadata": {},
   "source": [
    "# Style-transfer AI"
   ]
  },
  {
   "cell_type": "markdown",
   "id": "7051cda7",
   "metadata": {},
   "source": [
    "To obtain a representation of the style of an input image, we use a feature space originally\n",
    "designed to capture texture information.8 This feature space is built on top of the filter responses\n",
    "in each layer of the network. It consists of the correlations between the different filter responses\n",
    "over the spatial extent of the feature maps (see Methods for details). By including the feature\n",
    "correlations of multiple layers, we obtain a stationary, multi-scale representation of the input\n",
    "image, which captures its texture information but not the global arrangement."
   ]
  },
  {
   "cell_type": "code",
   "execution_count": null,
   "id": "592048eb",
   "metadata": {},
   "outputs": [],
   "source": []
  }
 ],
 "metadata": {
  "kernelspec": {
   "display_name": "Python 3 (ipykernel)",
   "language": "python",
   "name": "python3"
  },
  "language_info": {
   "codemirror_mode": {
    "name": "ipython",
    "version": 3
   },
   "file_extension": ".py",
   "mimetype": "text/x-python",
   "name": "python",
   "nbconvert_exporter": "python",
   "pygments_lexer": "ipython3",
   "version": "3.9.6"
  }
 },
 "nbformat": 4,
 "nbformat_minor": 5
}
